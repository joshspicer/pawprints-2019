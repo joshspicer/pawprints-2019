{
 "cells": [
  {
   "cell_type": "code",
   "execution_count": 104,
   "metadata": {},
   "outputs": [],
   "source": [
    "# <https://joshspicer.com/husky-hunt-2019>\n",
    "\n",
    "# TODO:\n",
    "# - Table with \"solves per hour\"\n",
    "# - Map with Draggable Timeline rendering pins of solved/unsolved\n",
    "# - Average solve time. (check drive for list upload times.)\n",
    "\n",
    "\n",
    "import pandas as pd\n",
    "import numpy as np\n",
    "import matplotlib.pyplot as plt\n",
    "import os, json\n",
    "from datetime import datetime\n"
   ]
  },
  {
   "cell_type": "code",
   "execution_count": 105,
   "metadata": {},
   "outputs": [],
   "source": [
    "# Parse data files into `clue_data`, `clue_status`, and `hunters`\n",
    "\n",
    "path_to_json = './data'\n",
    "json_files = [pos_json for pos_json in os.listdir(path_to_json) if pos_json.endswith('.json')]\n",
    "json_files.sort()\n",
    "\n",
    "\n",
    "clue_data = {}\n",
    "clue_status = {}\n",
    "hunters = {}\n",
    "for f in json_files:\n",
    "    with open(\"./data/\"+f) as json_file:\n",
    "        tmp_json = json.load(json_file)\n",
    "        if \"clues\" in tmp_json:\n",
    "            date = f.replace(\"-04:00.json\", \"\")\n",
    "            # Clues\n",
    "            for identifer, clue in tmp_json['clues'].items():\n",
    "                # Grab Relevant Fields\n",
    "                clueList = clue['clueListId']\n",
    "                clueNum = clue['clueNum'].zfill(3)\n",
    "                clueName = clueList + clueNum\n",
    "                \n",
    "                # Record General Clue Data (location, title)\n",
    "                if clueName not in clue_data:\n",
    "                    clue_data[clueName] = {\"inCrawl\": clue['inCrawl'],\n",
    "                                           \"lat\": clue[\"latitude\"],\n",
    "                                           \"long\": clue['longitude'],\n",
    "                                           \"title\": clue['title']}\n",
    "                    \n",
    "                # Record Clue's status at this moment in time\n",
    "                if clueName not in clue_status:\n",
    "                    clue_status[clueName] = {}\n",
    "                clue_status[clueName][date] =  clue[\"completed\"]\n",
    "                                            \n",
    "        # Hunters\n",
    "        if \"hunters\" in tmp_json:\n",
    "            hunters[f.replace(\"-04:00.json\", \"\")] = tmp_json[\"hunters\"]\n",
    "            "
   ]
  },
  {
   "cell_type": "code",
   "execution_count": 106,
   "metadata": {},
   "outputs": [
    {
     "data": {
      "image/png": "[encoded data removed]",
      "text/plain": [
       "<Figure size 432x288 with 1 Axes>"
      ]
     },
     "metadata": {
      "needs_background": "light"
     },
     "output_type": "display_data"
    }
   ],
   "source": [
    "# Clues Completion Times\n",
    "\n",
    "clueSolvedAt = {}\n",
    "cluesSolvedAtCount = {}\n",
    "\n",
    "for clueNum, clue in clue_status.items():\n",
    "    for time, isSolved in clue.items():\n",
    "        # Init Data Structure\n",
    "        if time not in clueSolvedAt:\n",
    "            clueSolvedAt[time] = []\n",
    "            cluesSolvedAtCount[time] = 0\n",
    "        \n",
    "        # Catches first time the clue swaps from False --> True\n",
    "        if isSolved == True:\n",
    "            clueSolvedAt[time].append(clueNum)\n",
    "            cluesSolvedAtCount[time] += 1\n",
    "            break\n",
    "            \n",
    "            \n",
    "clueSolvedAtDF = pd.DataFrame.from_dict(cluesSolvedAtCount, orient=\"index\")\n",
    "ax = clueSolvedAtDF.plot(kind=\"bar\")\n",
    "\n",
    "# Reduce amount of x-axis labels rendered\n",
    "for i, t in enumerate(ax.get_xticklabels()):\n",
    "    if (i % 20) != 0:\n",
    "        t.set_visible(False)\n",
    "    "
   ]
  },
  {
   "cell_type": "code",
   "execution_count": null,
   "metadata": {},
   "outputs": [],
   "source": []
  }
 ],
 "metadata": {
  "kernelspec": {
   "display_name": "Python 3",
   "language": "python",
   "name": "python3"
  },
  "language_info": {
   "codemirror_mode": {
    "name": "ipython",
    "version": 3
   },
   "file_extension": ".py",
   "mimetype": "text/x-python",
   "name": "python",
   "nbconvert_exporter": "python",
   "pygments_lexer": "ipython3",
   "version": "3.7.4"
  }
 },
 "nbformat": 4,
 "nbformat_minor": 2
}
